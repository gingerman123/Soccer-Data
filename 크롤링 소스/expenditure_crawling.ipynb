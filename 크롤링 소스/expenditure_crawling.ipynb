{
 "cells": [
  {
   "cell_type": "code",
   "execution_count": 6,
   "metadata": {},
   "outputs": [],
   "source": [
    "from selenium import webdriver\n",
    "from selenium.webdriver.common.by import By\n",
    "from selenium.webdriver.common.keys import Keys\n",
    "from selenium.webdriver.support.ui import WebDriverWait\n",
    "from selenium.webdriver.support import expected_conditions as EC\n",
    "from webdriver_manager.chrome import ChromeDriverManager\n",
    "from selenium.webdriver.chrome.service import Service\n",
    "from selenium.webdriver.chrome.options import Options\n",
    "from time import sleep\n",
    "import pandas as pd\n",
    "\n",
    "chrome_options = Options()\n",
    "chrome_options.add_experimental_option(\"detach\", True)\n"
   ]
  },
  {
   "cell_type": "code",
   "execution_count": 31,
   "metadata": {},
   "outputs": [
    {
     "name": "stdout",
     "output_type": "stream",
     "text": [
      "2013-2014 팀별 총 지출액.csv 파일이 생성되었습니다.\n",
      "2014-2015 팀별 총 지출액.csv 파일이 생성되었습니다.\n",
      "2015-2016 팀별 총 지출액.csv 파일이 생성되었습니다.\n",
      "2016-2017 팀별 총 지출액.csv 파일이 생성되었습니다.\n",
      "2017-2018 팀별 총 지출액.csv 파일이 생성되었습니다.\n",
      "2018-2019 팀별 총 지출액.csv 파일이 생성되었습니다.\n",
      "2019-2020 팀별 총 지출액.csv 파일이 생성되었습니다.\n",
      "2020-2021 팀별 총 지출액.csv 파일이 생성되었습니다.\n",
      "2021-2022 팀별 총 지출액.csv 파일이 생성되었습니다.\n",
      "2022-2023 팀별 총 지출액.csv 파일이 생성되었습니다.\n"
     ]
    }
   ],
   "source": [
    "service = Service(executable_path=ChromeDriverManager().install())\n",
    "driver = webdriver.Chrome(service=service, options=chrome_options)\n",
    "\n",
    "for season in range(2013, 2023):\n",
    "  \n",
    "  \n",
    "  url = f'https://www.transfermarkt.com/premier-league/einnahmenausgaben/wettbewerb/GB1/plus/1?ids=a&sa=&saison_id={season}&saison_id_bis={season}&nat=&pos=&altersklasse=&w_s=&leihe=&intern=0'\n",
    "  driver.get(url)\n",
    "\n",
    "  # 한번만 accept만 하면 된다네요. 이거땜에 두번째부터 이 창이 안나타니 아래 코드가 실행이 안돼서 에러의 원인입니다. 따라서 if season=2013을 넣어야되요\n",
    "  if season == 2013:\n",
    "    # 팝업창 닫기\n",
    "    iframe = WebDriverWait(driver, 10).until(\n",
    "      EC.presence_of_element_located((By.XPATH, \"//iframe[@id='sp_message_iframe_953358']\"))\n",
    "      )\n",
    "    driver.switch_to.frame(iframe)\n",
    "    # \"Accept & continue\" 버튼에 대한 대기\n",
    "    accept_button = WebDriverWait(driver, 10).until(\n",
    "      EC.element_to_be_clickable((By.XPATH, \"//button[contains(text(), 'Accept & continue')]\"))\n",
    "      )\n",
    "    accept_button.click()\n",
    "  \n",
    "  # 자바 스크립트를 활성화한다네요 뭔지 모르지만 chat GPT가 find_element 안될때 실행하라고 알려줬어요\n",
    "  driver.execute_script(\"return navigator.userAgent\")\n",
    "  sleep(3)\n",
    "  \n",
    "  team_data=[]\n",
    "  \n",
    "  # 팀이름열에 팀 이름을 Balance열에 총 지출액을 넣어주네요\n",
    "  for i in range(1,21):\n",
    "    team_name = driver.find_element(By.CSS_SELECTOR, f'#yw1 > table > tbody > tr:nth-child({i}) > td.hauptlink.no-border-links > a').text\n",
    "    team_balance = driver.find_element(By.CSS_SELECTOR, f'#yw1 > table > tbody > tr:nth-child({i}) > td:nth-child(9) > span').text[1:]\n",
    "    team_data.append({'Team': team_name, 'Balance': team_balance})\n",
    "  # 데이터프레임 생성\n",
    "  df = pd.DataFrame(team_data)\n",
    "\n",
    "  # CSV 파일로 저장\n",
    "  filename = f'{season}-{season+1} 팀별 총 지출액.csv'\n",
    "  df.to_csv(filename, index=False)\n",
    "  print(f'{filename} 파일이 생성되었습니다.')\n",
    "  "
   ]
  },
  {
   "cell_type": "code",
   "execution_count": null,
   "metadata": {},
   "outputs": [],
   "source": []
  },
  {
   "cell_type": "code",
   "execution_count": null,
   "metadata": {},
   "outputs": [],
   "source": []
  },
  {
   "cell_type": "code",
   "execution_count": null,
   "metadata": {},
   "outputs": [],
   "source": []
  },
  {
   "cell_type": "code",
   "execution_count": null,
   "metadata": {},
   "outputs": [],
   "source": []
  },
  {
   "cell_type": "code",
   "execution_count": null,
   "metadata": {},
   "outputs": [],
   "source": []
  },
  {
   "cell_type": "code",
   "execution_count": null,
   "metadata": {},
   "outputs": [],
   "source": []
  },
  {
   "cell_type": "code",
   "execution_count": null,
   "metadata": {},
   "outputs": [],
   "source": []
  },
  {
   "cell_type": "code",
   "execution_count": null,
   "metadata": {},
   "outputs": [],
   "source": []
  },
  {
   "cell_type": "code",
   "execution_count": null,
   "metadata": {},
   "outputs": [],
   "source": []
  },
  {
   "cell_type": "code",
   "execution_count": null,
   "metadata": {},
   "outputs": [],
   "source": []
  },
  {
   "cell_type": "code",
   "execution_count": null,
   "metadata": {},
   "outputs": [],
   "source": []
  }
 ],
 "metadata": {
  "kernelspec": {
   "display_name": "base",
   "language": "python",
   "name": "python3"
  },
  "language_info": {
   "codemirror_mode": {
    "name": "ipython",
    "version": 3
   },
   "file_extension": ".py",
   "mimetype": "text/x-python",
   "name": "python",
   "nbconvert_exporter": "python",
   "pygments_lexer": "ipython3",
   "version": "3.11.5"
  }
 },
 "nbformat": 4,
 "nbformat_minor": 2
}
