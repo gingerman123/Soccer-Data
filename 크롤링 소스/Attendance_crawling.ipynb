{
 "cells": [
  {
   "cell_type": "code",
   "execution_count": 1,
   "metadata": {},
   "outputs": [
    {
     "name": "stdout",
     "output_type": "stream",
     "text": [
      "2013-2014 프리미어리그 순위표.csv 파일이 생성되었습니다.\n",
      "2014-2015 프리미어리그 순위표.csv 파일이 생성되었습니다.\n",
      "2015-2016 프리미어리그 순위표.csv 파일이 생성되었습니다.\n",
      "2016-2017 프리미어리그 순위표.csv 파일이 생성되었습니다.\n",
      "2017-2018 프리미어리그 순위표.csv 파일이 생성되었습니다.\n",
      "2018-2019 프리미어리그 순위표.csv 파일이 생성되었습니다.\n",
      "2019-2020 프리미어리그 순위표.csv 파일이 생성되었습니다.\n",
      "2020-2021 프리미어리그 순위표.csv 파일이 생성되었습니다.\n",
      "2021-2022 프리미어리그 순위표.csv 파일이 생성되었습니다.\n",
      "2022-2023 프리미어리그 순위표.csv 파일이 생성되었습니다.\n"
     ]
    }
   ],
   "source": [
    "import pandas as pd\n",
    "from selenium import webdriver\n",
    "from selenium.webdriver.common.by import By\n",
    "from selenium.webdriver.chrome.service import Service\n",
    "from selenium.webdriver.chrome.options import Options\n",
    "from webdriver_manager.chrome import ChromeDriverManager\n",
    "from selenium.webdriver.support.ui import WebDriverWait\n",
    "from selenium.webdriver.support import expected_conditions as EC\n",
    "from time import sleep\n",
    "\n",
    "chrome_options = Options()\n",
    "chrome_options.add_experimental_option(\"detach\", True)\n",
    "\n",
    "service = Service(executable_path=ChromeDriverManager().install())\n",
    "driver = webdriver.Chrome(service=service, options=chrome_options)\n",
    "# 2013년부터 2022년까지 데이터 가져오기\n",
    "for season in range(2013, 2023):\n",
    "  url = f'https://www.transfermarkt.co.uk/premier-league/tabelle/wettbewerb/GB1?saison_id={season}'\n",
    "  driver.get(url)\n",
    "\n",
    "  if season == 2013:  # 팝업창 닫기\n",
    "    iframe = WebDriverWait(driver, 10).until(\n",
    "            EC.presence_of_element_located((By.XPATH, \"//iframe[@id='sp_message_iframe_953778']\"))\n",
    "        )\n",
    "    driver.switch_to.frame(iframe)\n",
    "        # \"Accept & continue\" 버튼에 대한 대기\n",
    "    accept_button = WebDriverWait(driver, 10).until(\n",
    "            EC.element_to_be_clickable((By.XPATH, \"//button[contains(text(), 'Accept & continue')]\"))\n",
    "        )\n",
    "    accept_button.click()\n",
    "\n",
    "\n",
    "  driver.execute_script(\"return navigator.userAgent\")\n",
    "  sleep(3)\n",
    "  # 필요한 정보 추출\n",
    "  team_rows = driver.find_elements(By.CSS_SELECTOR, '.responsive-table tbody tr')\n",
    "  team_rows\n",
    "\n",
    "  team_data = []\n",
    "\n",
    "  for i in range(1,21):\n",
    "      team_point = driver.find_element(By.CSS_SELECTOR, f'#yw1 > table > tbody > tr:nth-child({i}) > td:nth-child(10)').text # 승점\n",
    "      team_name_element = driver.find_element(By.CSS_SELECTOR, f'#yw1 > table > tbody > tr:nth-child({i}) > td.no-border-links.hauptlink > a') # 팀 명\n",
    "      team_name = team_name_element.get_attribute('title') # 팀 명 'title'값으로 받아오기\n",
    "      team_rank = driver.find_element(By.CSS_SELECTOR, f'#yw1 > table > tbody > tr:nth-child({i}) > td:nth-child(1)').text # 순위\n",
    "      team_score = driver.find_element(By.CSS_SELECTOR, f'#yw1 > table > tbody > tr:nth-child({i}) > td:nth-child(8)').text.split(':')[0] # 득점\n",
    "      team_lose_score = driver.find_element(By.CSS_SELECTOR, f'#yw1 > table > tbody > tr:nth-child({i}) > td:nth-child(8)').text.split(':')[1] # 실점\n",
    "      team_data.append({'Team': team_name,'Rank':team_rank, 'Point': team_point, 'Score': team_score, 'Lose_score': team_lose_score})\n",
    "  # 데이터프레임 생성\n",
    "  df = pd.DataFrame(team_data)\n",
    "  # CSV 파일로 저장\n",
    "  filename = f'{season}-{season+1} 프리미어리그 순위표.csv'\n",
    "  df.to_csv(filename, index=False)\n",
    "  print(f'{filename} 파일이 생성되었습니다.')\n"
   ]
  }
 ],
 "metadata": {
  "kernelspec": {
   "display_name": "base",
   "language": "python",
   "name": "python3"
  },
  "language_info": {
   "codemirror_mode": {
    "name": "ipython",
    "version": 3
   },
   "file_extension": ".py",
   "mimetype": "text/x-python",
   "name": "python",
   "nbconvert_exporter": "python",
   "pygments_lexer": "ipython3",
   "version": "3.11.5"
  }
 },
 "nbformat": 4,
 "nbformat_minor": 2
}
