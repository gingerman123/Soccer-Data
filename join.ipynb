{
 "cells": [
  {
   "cell_type": "code",
   "execution_count": 57,
   "metadata": {},
   "outputs": [
    {
     "name": "stdout",
     "output_type": "stream",
     "text": [
      "2013-2014 팀별 데이터.csv 파일이 생성되었습니다.\n",
      "2014-2015 팀별 데이터.csv 파일이 생성되었습니다.\n",
      "2015-2016 팀별 데이터.csv 파일이 생성되었습니다.\n",
      "2016-2017 팀별 데이터.csv 파일이 생성되었습니다.\n",
      "2017-2018 팀별 데이터.csv 파일이 생성되었습니다.\n",
      "2018-2019 팀별 데이터.csv 파일이 생성되었습니다.\n",
      "2019-2020 팀별 데이터.csv 파일이 생성되었습니다.\n",
      "2020-2021 팀별 데이터.csv 파일이 생성되었습니다.\n",
      "2021-2022 팀별 데이터.csv 파일이 생성되었습니다.\n",
      "2022-2023 팀별 데이터.csv 파일이 생성되었습니다.\n"
     ]
    }
   ],
   "source": [
    "import pandas as pd\n",
    "# 시즌간 팀별 데이터 합치기\n",
    "for season in range(2013,2023):\n",
    "  ex = pd.read_csv(f'{season}-{season+1} 팀별 총 지출액.csv')\n",
    "  age = pd.read_csv(f'{season}-{season+1} 팀별 평균 나이.csv')\n",
    "  rank = pd.read_csv(f'{season}-{season+1} 프리미어리그 순위표.csv')\n",
    "\n",
    "  rank = rank.set_index('Team')\n",
    "  rank = rank.sort_index()\n",
    "  rank = rank.loc[:,['Rank','Point','Score','Lose_score']]\n",
    "  ex = ex.set_index('Team')\n",
    "  ex = ex.sort_index()\n",
    "  age = age.set_index('Team')\n",
    "  age = age.sort_index()\n",
    "\n",
    "  my_df = rank.join(ex)\n",
    "  my_df = my_df.join(age)\n",
    "  \n",
    "  filename = f'{season}-{season+1} 팀별 데이터.csv'\n",
    "  my_df.to_csv(filename)\n",
    "  print(f'{filename} 파일이 생성되었습니다.')\n"
   ]
  },
  {
   "cell_type": "code",
   "execution_count": null,
   "metadata": {},
   "outputs": [],
   "source": []
  },
  {
   "cell_type": "code",
   "execution_count": 69,
   "metadata": {},
   "outputs": [
    {
     "data": {
      "text/html": [
       "<div>\n",
       "<style scoped>\n",
       "    .dataframe tbody tr th:only-of-type {\n",
       "        vertical-align: middle;\n",
       "    }\n",
       "\n",
       "    .dataframe tbody tr th {\n",
       "        vertical-align: top;\n",
       "    }\n",
       "\n",
       "    .dataframe thead th {\n",
       "        text-align: right;\n",
       "    }\n",
       "</style>\n",
       "<table border=\"1\" class=\"dataframe\">\n",
       "  <thead>\n",
       "    <tr style=\"text-align: right;\">\n",
       "      <th></th>\n",
       "      <th>2013-2014</th>\n",
       "      <th>2022-2023</th>\n",
       "    </tr>\n",
       "    <tr>\n",
       "      <th>Team</th>\n",
       "      <th></th>\n",
       "      <th></th>\n",
       "    </tr>\n",
       "  </thead>\n",
       "  <tbody>\n",
       "    <tr>\n",
       "      <th>Manchester City</th>\n",
       "      <td>1</td>\n",
       "      <td>1.0</td>\n",
       "    </tr>\n",
       "    <tr>\n",
       "      <th>Liverpool FC</th>\n",
       "      <td>2</td>\n",
       "      <td>5.0</td>\n",
       "    </tr>\n",
       "    <tr>\n",
       "      <th>Chelsea FC</th>\n",
       "      <td>3</td>\n",
       "      <td>12.0</td>\n",
       "    </tr>\n",
       "    <tr>\n",
       "      <th>Arsenal FC</th>\n",
       "      <td>4</td>\n",
       "      <td>2.0</td>\n",
       "    </tr>\n",
       "    <tr>\n",
       "      <th>Everton FC</th>\n",
       "      <td>5</td>\n",
       "      <td>17.0</td>\n",
       "    </tr>\n",
       "  </tbody>\n",
       "</table>\n",
       "</div>"
      ],
      "text/plain": [
       "                 2013-2014  2022-2023\n",
       "Team                                 \n",
       "Manchester City          1        1.0\n",
       "Liverpool FC             2        5.0\n",
       "Chelsea FC               3       12.0\n",
       "Arsenal FC               4        2.0\n",
       "Everton FC               5       17.0"
      ]
     },
     "execution_count": 69,
     "metadata": {},
     "output_type": "execute_result"
    }
   ],
   "source": [
    "df1 = pd.read_csv('2013-2014 프리미어리그 순위표.csv')\n",
    "df2 = pd.read_csv('2022-2023 프리미어리그 순위표.csv')\n",
    "left = df1.set_index('Team').iloc[:,0]\n",
    "right = df2.set_index('Team').iloc[:,0]\n",
    "team = df1['Team']\n",
    "\n",
    "my_dataframe = pd.DataFrame({'2013-2014' : left, '2022-2023' : right},index=team)\n",
    "my_dataframe.head()"
   ]
  },
  {
   "cell_type": "code",
   "execution_count": 71,
   "metadata": {},
   "outputs": [],
   "source": [
    "df1 = pd.read_csv('2013-2014 프리미어리그 순위표.csv', usecols=['Team','Lose_score'])\n",
    "df2 = pd.read_csv('2014-2015 프리미어리그 순위표.csv',usecols=['Team','Lose_score'])\n",
    "left = df1.set_index('Team')\n",
    "right = df2.set_index('Team')\n",
    "df3 = left.join(right,rsuffix = f'_2014', how = 'outer' )\n",
    "df3.to_csv(\"2014-2015.csv\")\n",
    "for i in range(2015, 2023): \n",
    "  df2 = pd.read_csv(f'{i}-{i+1} 프리미어리그 순위표.csv',usecols=['Team','Lose_score'])\n",
    "  df3 = pd.read_csv(f'{i-1}-{i}.csv')\n",
    "  left = df3.set_index('Team')\n",
    "  right = df2.set_index('Team')\n",
    "  df3 = left.join(right,rsuffix = f'_{i}', how = 'outer' )\n",
    "  df3.to_csv(f'{i}-{i+1}.csv')"
   ]
  },
  {
   "cell_type": "code",
   "execution_count": null,
   "metadata": {},
   "outputs": [],
   "source": []
  },
  {
   "cell_type": "code",
   "execution_count": null,
   "metadata": {},
   "outputs": [],
   "source": []
  },
  {
   "cell_type": "code",
   "execution_count": null,
   "metadata": {},
   "outputs": [],
   "source": []
  },
  {
   "cell_type": "code",
   "execution_count": null,
   "metadata": {},
   "outputs": [],
   "source": []
  }
 ],
 "metadata": {
  "kernelspec": {
   "display_name": "base",
   "language": "python",
   "name": "python3"
  },
  "language_info": {
   "codemirror_mode": {
    "name": "ipython",
    "version": 3
   },
   "file_extension": ".py",
   "mimetype": "text/x-python",
   "name": "python",
   "nbconvert_exporter": "python",
   "pygments_lexer": "ipython3",
   "version": "3.11.5"
  }
 },
 "nbformat": 4,
 "nbformat_minor": 2
}
